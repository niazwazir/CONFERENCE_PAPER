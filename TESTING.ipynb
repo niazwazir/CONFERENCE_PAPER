{
  "nbformat": 4,
  "nbformat_minor": 0,
  "metadata": {
    "colab": {
      "name": "TESTING.ipynb",
      "provenance": []
    },
    "kernelspec": {
      "name": "python3",
      "display_name": "Python 3"
    },
    "language_info": {
      "name": "python"
    },
    "accelerator": "GPU"
  },
  "cells": [
    {
      "cell_type": "code",
      "source": [
        "!git clone https://github.com/niazwazir/CONFERENCE_PAPER"
      ],
      "metadata": {
        "colab": {
          "base_uri": "https://localhost:8080/"
        },
        "id": "iFlNbSKANFjy",
        "outputId": "d2e16dfc-5141-474c-8099-0dcd0ba1368e"
      },
      "execution_count": 1,
      "outputs": [
        {
          "output_type": "stream",
          "name": "stdout",
          "text": [
            "Cloning into 'CONFERENCE_PAPER'...\n",
            "remote: Enumerating objects: 3, done.\u001b[K\n",
            "remote: Counting objects: 100% (3/3), done.\u001b[K\n",
            "remote: Compressing objects: 100% (2/2), done.\u001b[K\n",
            "remote: Total 3 (delta 0), reused 0 (delta 0), pack-reused 0\u001b[K\n",
            "Unpacking objects: 100% (3/3), done.\n"
          ]
        }
      ]
    },
    {
      "cell_type": "code",
      "source": [
        "!ls"
      ],
      "metadata": {
        "colab": {
          "base_uri": "https://localhost:8080/"
        },
        "id": "7SpJCKUcNFoR",
        "outputId": "75309616-baf1-4247-8719-85acb2887afc"
      },
      "execution_count": 2,
      "outputs": [
        {
          "output_type": "stream",
          "name": "stdout",
          "text": [
            "CONFERENCE_PAPER  sample_data\n"
          ]
        }
      ]
    },
    {
      "cell_type": "code",
      "source": [
        "cd CONFERENCE_PAPER/"
      ],
      "metadata": {
        "colab": {
          "base_uri": "https://localhost:8080/"
        },
        "id": "UEzUqPYJNsXr",
        "outputId": "e7399d7a-4bf0-4186-87c9-4a4b975f5fcb"
      },
      "execution_count": 3,
      "outputs": [
        {
          "output_type": "stream",
          "name": "stdout",
          "text": [
            "/content/CONFERENCE_PAPER\n"
          ]
        }
      ]
    },
    {
      "cell_type": "code",
      "source": [
        "!ls"
      ],
      "metadata": {
        "colab": {
          "base_uri": "https://localhost:8080/"
        },
        "id": "jlvQYehtNw74",
        "outputId": "cb2fdade-9344-4a4e-a5b2-df83c84c450d"
      },
      "execution_count": 4,
      "outputs": [
        {
          "output_type": "stream",
          "name": "stdout",
          "text": [
            "MCSNet_X8.zip\n"
          ]
        }
      ]
    },
    {
      "cell_type": "code",
      "source": [
        "!unzip MCSNet_X8.zip"
      ],
      "metadata": {
        "colab": {
          "base_uri": "https://localhost:8080/"
        },
        "id": "FRO7Rq_YOIEa",
        "outputId": "6f209e2b-562c-492a-9e28-94278001d059"
      },
      "execution_count": 5,
      "outputs": [
        {
          "output_type": "stream",
          "name": "stdout",
          "text": [
            "Archive:  MCSNet_X8.zip\n",
            "   creating: MCSNet_X8/__pycache__/\n",
            "  inflating: MCSNet_X8/__pycache__/model.cpython-39.pyc  \n",
            "  inflating: MCSNet_X8/__pycache__/neuralnet.cpython-39.pyc  \n",
            "  inflating: MCSNet_X8/average_psnr_x8.py  \n",
            "  inflating: MCSNet_X8/Bneuralnet.py  \n",
            "   creating: MCSNet_X8/checkpoint/\n",
            "   creating: MCSNet_X8/dataset/\n",
            "   creating: MCSNet_X8/dataset/test/\n",
            "  inflating: MCSNet_X8/dataset/test/baby.png  \n",
            "  inflating: MCSNet_X8/dataset/test/bird.png  \n",
            "  inflating: MCSNet_X8/dataset/test/butterfly.png  \n",
            "  inflating: MCSNet_X8/dataset/test/head.png  \n",
            "  inflating: MCSNet_X8/dataset/test/woman.png  \n",
            "   creating: MCSNet_X8/dataset/train/\n",
            "  inflating: MCSNet_X8/dataset/train/t1.bmp  \n",
            "  inflating: MCSNet_X8/dataset/train/t10.bmp  \n",
            "  inflating: MCSNet_X8/dataset/train/t11.bmp  \n",
            "  inflating: MCSNet_X8/dataset/train/t12.bmp  \n",
            "  inflating: MCSNet_X8/dataset/train/t13.bmp  \n",
            "  inflating: MCSNet_X8/dataset/train/t14.bmp  \n",
            "  inflating: MCSNet_X8/dataset/train/t15.bmp  \n",
            "  inflating: MCSNet_X8/dataset/train/t16.bmp  \n",
            "  inflating: MCSNet_X8/dataset/train/t17.bmp  \n",
            "  inflating: MCSNet_X8/dataset/train/t18.bmp  \n",
            "  inflating: MCSNet_X8/dataset/train/t19.bmp  \n",
            "  inflating: MCSNet_X8/dataset/train/t2.bmp  \n",
            "  inflating: MCSNet_X8/dataset/train/t20.bmp  \n",
            "  inflating: MCSNet_X8/dataset/train/t21.bmp  \n",
            "  inflating: MCSNet_X8/dataset/train/t22.bmp  \n",
            "  inflating: MCSNet_X8/dataset/train/t23.bmp  \n",
            "  inflating: MCSNet_X8/dataset/train/t24.bmp  \n",
            "  inflating: MCSNet_X8/dataset/train/t25.bmp  \n",
            "  inflating: MCSNet_X8/dataset/train/t26.bmp  \n",
            "  inflating: MCSNet_X8/dataset/train/t27.bmp  \n",
            "  inflating: MCSNet_X8/dataset/train/t28.bmp  \n",
            "  inflating: MCSNet_X8/dataset/train/t29.bmp  \n",
            "  inflating: MCSNet_X8/dataset/train/t3.bmp  \n",
            "  inflating: MCSNet_X8/dataset/train/t30.bmp  \n",
            "  inflating: MCSNet_X8/dataset/train/t31.bmp  \n",
            "  inflating: MCSNet_X8/dataset/train/t32.bmp  \n",
            "  inflating: MCSNet_X8/dataset/train/t33.bmp  \n",
            "  inflating: MCSNet_X8/dataset/train/t34.bmp  \n",
            "  inflating: MCSNet_X8/dataset/train/t35.bmp  \n",
            "  inflating: MCSNet_X8/dataset/train/t36.bmp  \n",
            "  inflating: MCSNet_X8/dataset/train/t37.bmp  \n",
            "  inflating: MCSNet_X8/dataset/train/t38.bmp  \n",
            "  inflating: MCSNet_X8/dataset/train/t39.bmp  \n",
            "  inflating: MCSNet_X8/dataset/train/t4.bmp  \n",
            "  inflating: MCSNet_X8/dataset/train/t40.bmp  \n",
            "  inflating: MCSNet_X8/dataset/train/t42.bmp  \n",
            "  inflating: MCSNet_X8/dataset/train/t43.bmp  \n",
            "  inflating: MCSNet_X8/dataset/train/t44.bmp  \n",
            "  inflating: MCSNet_X8/dataset/train/t45.bmp  \n",
            "  inflating: MCSNet_X8/dataset/train/t46.bmp  \n",
            "  inflating: MCSNet_X8/dataset/train/t47.bmp  \n",
            "  inflating: MCSNet_X8/dataset/train/t48.bmp  \n",
            "  inflating: MCSNet_X8/dataset/train/t49.bmp  \n",
            "  inflating: MCSNet_X8/dataset/train/t5.bmp  \n",
            "  inflating: MCSNet_X8/dataset/train/t50.bmp  \n",
            "  inflating: MCSNet_X8/dataset/train/t51.bmp  \n",
            "  inflating: MCSNet_X8/dataset/train/t52.bmp  \n",
            "  inflating: MCSNet_X8/dataset/train/t53.bmp  \n",
            "  inflating: MCSNet_X8/dataset/train/t54.bmp  \n",
            "  inflating: MCSNet_X8/dataset/train/t55.bmp  \n",
            "  inflating: MCSNet_X8/dataset/train/t56.bmp  \n",
            "  inflating: MCSNet_X8/dataset/train/t57.bmp  \n",
            "  inflating: MCSNet_X8/dataset/train/t58.bmp  \n",
            "  inflating: MCSNet_X8/dataset/train/t59.bmp  \n",
            "  inflating: MCSNet_X8/dataset/train/t6.bmp  \n",
            "  inflating: MCSNet_X8/dataset/train/t60.bmp  \n",
            "  inflating: MCSNet_X8/dataset/train/t61.bmp  \n",
            "  inflating: MCSNet_X8/dataset/train/t62.bmp  \n",
            "  inflating: MCSNet_X8/dataset/train/t63.bmp  \n",
            "  inflating: MCSNet_X8/dataset/train/t64.bmp  \n",
            "  inflating: MCSNet_X8/dataset/train/t65.bmp  \n",
            "  inflating: MCSNet_X8/dataset/train/t66.bmp  \n",
            "  inflating: MCSNet_X8/dataset/train/t7.bmp  \n",
            "  inflating: MCSNet_X8/dataset/train/t8.bmp  \n",
            "  inflating: MCSNet_X8/dataset/train/t9.bmp  \n",
            "  inflating: MCSNet_X8/dataset/train/tt1.bmp  \n",
            "  inflating: MCSNet_X8/dataset/train/tt10.bmp  \n",
            "  inflating: MCSNet_X8/dataset/train/tt12.bmp  \n",
            "  inflating: MCSNet_X8/dataset/train/tt13.bmp  \n",
            "  inflating: MCSNet_X8/dataset/train/tt14.bmp  \n",
            "  inflating: MCSNet_X8/dataset/train/tt15.bmp  \n",
            "  inflating: MCSNet_X8/dataset/train/tt16.bmp  \n",
            "  inflating: MCSNet_X8/dataset/train/tt17.bmp  \n",
            "  inflating: MCSNet_X8/dataset/train/tt18.bmp  \n",
            "  inflating: MCSNet_X8/dataset/train/tt19.bmp  \n",
            "  inflating: MCSNet_X8/dataset/train/tt2.bmp  \n",
            "  inflating: MCSNet_X8/dataset/train/tt20.bmp  \n",
            "  inflating: MCSNet_X8/dataset/train/tt21.bmp  \n",
            "  inflating: MCSNet_X8/dataset/train/tt22.bmp  \n",
            "  inflating: MCSNet_X8/dataset/train/tt23.bmp  \n",
            "  inflating: MCSNet_X8/dataset/train/tt24.bmp  \n",
            "  inflating: MCSNet_X8/dataset/train/tt25.bmp  \n",
            "  inflating: MCSNet_X8/dataset/train/tt26.bmp  \n",
            "  inflating: MCSNet_X8/dataset/train/tt27.bmp  \n",
            "  inflating: MCSNet_X8/dataset/train/tt3.bmp  \n",
            "  inflating: MCSNet_X8/dataset/train/tt4.bmp  \n",
            "  inflating: MCSNet_X8/dataset/train/tt5.bmp  \n",
            "  inflating: MCSNet_X8/dataset/train/tt6.bmp  \n",
            "  inflating: MCSNet_X8/dataset/train/tt7.bmp  \n",
            "  inflating: MCSNet_X8/dataset/train/tt8.bmp  \n",
            "  inflating: MCSNet_X8/dataset/train/tt9.bmp  \n",
            "   creating: MCSNet_X8/dataset/validation/\n",
            "  inflating: MCSNet_X8/dataset/validation/baby.png  \n",
            "  inflating: MCSNet_X8/dataset/validation/bird.png  \n",
            "  inflating: MCSNet_X8/dataset/validation/butterfly.png  \n",
            "  inflating: MCSNet_X8/dataset/validation/head.png  \n",
            "  inflating: MCSNet_X8/dataset/validation/woman.png  \n",
            "  inflating: MCSNet_X8/demo.py       \n",
            "  inflating: MCSNet_X8/FSRCNN-TF.ipynb  \n",
            "  inflating: MCSNet_X8/LICENSE       \n",
            "  inflating: MCSNet_X8/model.py      \n",
            "  inflating: MCSNet_X8/neuralnet.py  \n",
            "  inflating: MCSNet_X8/PSNR.py       \n",
            "  inflating: MCSNet_X8/README.md     \n",
            "  inflating: MCSNet_X8/test.py       \n",
            "   creating: MCSNet_X8/test/\n",
            "   creating: MCSNet_X8/test/SET5/\n",
            "   creating: MCSNet_X8/test/SET5/X8/\n",
            "   creating: MCSNet_X8/test/SET5/X8/HR/\n",
            "  inflating: MCSNet_X8/test/SET5/X8/HR/baby_HR_x8.png  \n",
            "  inflating: MCSNet_X8/test/SET5/X8/HR/bird_HR_x8.png  \n",
            "  inflating: MCSNet_X8/test/SET5/X8/HR/butterfly_HR_x8.png  \n",
            "  inflating: MCSNet_X8/test/SET5/X8/HR/head_HR_x8.png  \n",
            "  inflating: MCSNet_X8/test/SET5/X8/HR/woman_HR_x8.png  \n",
            "   creating: MCSNet_X8/test/SET5/X8/LR/\n",
            " extracting: MCSNet_X8/test/SET5/X8/LR/baby_LRBI_x8.png  \n",
            " extracting: MCSNet_X8/test/SET5/X8/LR/bird_LRBI_x8.png  \n",
            " extracting: MCSNet_X8/test/SET5/X8/LR/butterfly_LRBI_x8.png  \n",
            " extracting: MCSNet_X8/test/SET5/X8/LR/head_LRBI_x8.png  \n",
            " extracting: MCSNet_X8/test/SET5/X8/LR/woman_LRBI_x8.png  \n",
            "  inflating: MCSNet_X8/train.py      \n",
            "  inflating: MCSNet_X8/TRAINING PROCEDURE.txt  \n",
            "   creating: MCSNet_X8/utils/\n",
            "   creating: MCSNet_X8/utils/__pycache__/\n",
            "  inflating: MCSNet_X8/utils/__pycache__/common.cpython-39.pyc  \n",
            "  inflating: MCSNet_X8/utils/__pycache__/dataset.cpython-39.pyc  \n",
            "  inflating: MCSNet_X8/utils/common.py  \n",
            "  inflating: MCSNet_X8/utils/dataset.py  \n"
          ]
        }
      ]
    },
    {
      "cell_type": "code",
      "source": [
        "!ls"
      ],
      "metadata": {
        "colab": {
          "base_uri": "https://localhost:8080/"
        },
        "id": "UoHrOWNROMSZ",
        "outputId": "b435d902-2772-4d5e-dd44-97f9e650e982"
      },
      "execution_count": 6,
      "outputs": [
        {
          "output_type": "stream",
          "name": "stdout",
          "text": [
            "MCSNet_X8  MCSNet_X8.zip\n"
          ]
        }
      ]
    },
    {
      "cell_type": "code",
      "source": [
        "cd MCSNet_X8/"
      ],
      "metadata": {
        "colab": {
          "base_uri": "https://localhost:8080/"
        },
        "id": "pnysoeUWOMXS",
        "outputId": "c3d6e045-9cf4-4510-9c76-04ce6998556c"
      },
      "execution_count": 7,
      "outputs": [
        {
          "output_type": "stream",
          "name": "stdout",
          "text": [
            "/content/CONFERENCE_PAPER/MCSNet_X8\n"
          ]
        }
      ]
    },
    {
      "cell_type": "code",
      "source": [
        "!ls"
      ],
      "metadata": {
        "colab": {
          "base_uri": "https://localhost:8080/"
        },
        "id": "mO1yS5mIOMbS",
        "outputId": "564925a4-8e93-420a-e53e-2b2a510ffac3"
      },
      "execution_count": 8,
      "outputs": [
        {
          "output_type": "stream",
          "name": "stdout",
          "text": [
            " average_psnr_x8.py   FSRCNN-TF.ipynb   __pycache__\t\t  train.py\n",
            " Bneuralnet.py\t      LICENSE\t        README.md\t\t  utils\n",
            " checkpoint\t      model.py\t        test\n",
            " dataset\t      neuralnet.py      test.py\n",
            " demo.py\t      PSNR.py\t       'TRAINING PROCEDURE.txt'\n"
          ]
        }
      ]
    },
    {
      "cell_type": "code",
      "source": [
        "cd checkpoint/"
      ],
      "metadata": {
        "colab": {
          "base_uri": "https://localhost:8080/"
        },
        "id": "ReP8B0CROTMI",
        "outputId": "fd17a44b-8c73-44ff-c1bf-ab5bb1e2018a"
      },
      "execution_count": 9,
      "outputs": [
        {
          "output_type": "stream",
          "name": "stdout",
          "text": [
            "/content/CONFERENCE_PAPER/MCSNet_X8/checkpoint\n"
          ]
        }
      ]
    },
    {
      "cell_type": "code",
      "source": [
        "!ls"
      ],
      "metadata": {
        "id": "JAn6dwnpOWMZ"
      },
      "execution_count": 10,
      "outputs": []
    },
    {
      "cell_type": "code",
      "source": [
        "from google.colab import files\n",
        "uploaded = files.upload()"
      ],
      "metadata": {
        "colab": {
          "resources": {
            "http://localhost:8080/nbextensions/google.colab/files.js": {
              "data": "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",
              "ok": true,
              "headers": [
                [
                  "content-type",
                  "application/javascript"
                ]
              ],
              "status": 200,
              "status_text": ""
            }
          },
          "base_uri": "https://localhost:8080/",
          "height": 73
        },
        "id": "7zhPTgbiOvw6",
        "outputId": "159238bf-e334-48c0-e82b-d45869488c02"
      },
      "execution_count": 11,
      "outputs": [
        {
          "output_type": "display_data",
          "data": {
            "text/plain": [
              "<IPython.core.display.HTML object>"
            ],
            "text/html": [
              "\n",
              "     <input type=\"file\" id=\"files-6fbe6b2c-db24-47b5-beaa-1dac2838282b\" name=\"files[]\" multiple disabled\n",
              "        style=\"border:none\" />\n",
              "     <output id=\"result-6fbe6b2c-db24-47b5-beaa-1dac2838282b\">\n",
              "      Upload widget is only available when the cell has been executed in the\n",
              "      current browser session. Please rerun this cell to enable.\n",
              "      </output>\n",
              "      <script src=\"/nbextensions/google.colab/files.js\"></script> "
            ]
          },
          "metadata": {}
        },
        {
          "output_type": "stream",
          "name": "stdout",
          "text": [
            "Saving x8.zip to x8.zip\n"
          ]
        }
      ]
    },
    {
      "cell_type": "code",
      "source": [
        "!ls"
      ],
      "metadata": {
        "colab": {
          "base_uri": "https://localhost:8080/"
        },
        "id": "JFDm7nUOOv1Q",
        "outputId": "d167c41b-9d0b-4ca7-aab2-30a46da4b9d4"
      },
      "execution_count": 12,
      "outputs": [
        {
          "output_type": "stream",
          "name": "stdout",
          "text": [
            "x8.zip\n"
          ]
        }
      ]
    },
    {
      "cell_type": "code",
      "source": [
        "!unzip x8.zip"
      ],
      "metadata": {
        "colab": {
          "base_uri": "https://localhost:8080/"
        },
        "id": "xJZJ67PEO99b",
        "outputId": "5d94abd8-59da-461e-d0b5-3b13e00c0502"
      },
      "execution_count": 13,
      "outputs": [
        {
          "output_type": "stream",
          "name": "stdout",
          "text": [
            "Archive:  x8.zip\n",
            "   creating: x8/\n",
            "  inflating: x8/checkpoint           \n",
            "  inflating: x8/MCSNet-x8.h5         \n",
            "  inflating: x8/ckpt-0.data-00000-of-00001  \n",
            "  inflating: x8/ckpt-0.index         \n"
          ]
        }
      ]
    },
    {
      "cell_type": "code",
      "source": [
        "!ls"
      ],
      "metadata": {
        "colab": {
          "base_uri": "https://localhost:8080/"
        },
        "id": "iSahKbsYO-Ax",
        "outputId": "af0ad34d-3489-4a22-faea-7b0f7da46b0f"
      },
      "execution_count": 14,
      "outputs": [
        {
          "output_type": "stream",
          "name": "stdout",
          "text": [
            "x8  x8.zip\n"
          ]
        }
      ]
    },
    {
      "cell_type": "code",
      "source": [
        "cd .."
      ],
      "metadata": {
        "colab": {
          "base_uri": "https://localhost:8080/"
        },
        "id": "n6EcX4S0O-Eh",
        "outputId": "38ec08b0-b8ce-4cc7-a0c9-25df1425c570"
      },
      "execution_count": 15,
      "outputs": [
        {
          "output_type": "stream",
          "name": "stdout",
          "text": [
            "/content/CONFERENCE_PAPER/MCSNet_X8\n"
          ]
        }
      ]
    },
    {
      "cell_type": "code",
      "source": [
        "!ls"
      ],
      "metadata": {
        "colab": {
          "base_uri": "https://localhost:8080/"
        },
        "id": "MlgBwldPPELx",
        "outputId": "e6ab3543-c5c6-45c3-9826-ad13ae635019"
      },
      "execution_count": 16,
      "outputs": [
        {
          "output_type": "stream",
          "name": "stdout",
          "text": [
            " average_psnr_x8.py   FSRCNN-TF.ipynb   __pycache__\t\t  train.py\n",
            " Bneuralnet.py\t      LICENSE\t        README.md\t\t  utils\n",
            " checkpoint\t      model.py\t        test\n",
            " dataset\t      neuralnet.py      test.py\n",
            " demo.py\t      PSNR.py\t       'TRAINING PROCEDURE.txt'\n"
          ]
        }
      ]
    },
    {
      "cell_type": "code",
      "source": [
        "!python average_psnr_x8.py"
      ],
      "metadata": {
        "colab": {
          "base_uri": "https://localhost:8080/"
        },
        "id": "vGI5_eWzPEPR",
        "outputId": "eed59ab5-38af-4fa9-c65f-6ae3908e3c73"
      },
      "execution_count": 17,
      "outputs": [
        {
          "output_type": "stream",
          "name": "stdout",
          "text": [
            "2022-06-09 07:00:28.101492: W tensorflow/core/common_runtime/gpu/gpu_bfc_allocator.cc:39] Overriding allow_growth setting because the TF_FORCE_GPU_ALLOW_GROWTH environment variable is set. Original config value was 0.\n",
            "Model: \"model_5\"\n",
            "__________________________________________________________________________________________________\n",
            " Layer (type)                   Output Shape         Param #     Connected to                     \n",
            "==================================================================================================\n",
            " input_1 (InputLayer)           [(None, None, None,  0           []                               \n",
            "                                 3)]                                                              \n",
            "                                                                                                  \n",
            " conv2d (Conv2D)                (None, None, None,   84          ['input_1[0][0]']                \n",
            "                                3)                                                                \n",
            "                                                                                                  \n",
            " leaky_re_lu (LeakyReLU)        (None, None, None,   0           ['conv2d[0][0]']                 \n",
            "                                3)                                                                \n",
            "                                                                                                  \n",
            " conv2d_1 (Conv2D)              (None, None, None,   84          ['leaky_re_lu[0][0]']            \n",
            "                                3)                                                                \n",
            "                                                                                                  \n",
            " model (Functional)             (None, None, None,   3600        ['conv2d_1[0][0]']               \n",
            "                                3)                                                                \n",
            "                                                                                                  \n",
            " add_1 (Add)                    (None, None, None,   0           ['input_1[0][0]',                \n",
            "                                3)                                'model[0][0]']                  \n",
            "                                                                                                  \n",
            " conv2d_17 (Conv2D)             (None, None, None,   84          ['add_1[0][0]']                  \n",
            "                                3)                                                                \n",
            "                                                                                                  \n",
            " model_1 (Functional)           (None, None, None,   3600        ['conv2d_17[0][0]']              \n",
            "                                3)                                                                \n",
            "                                                                                                  \n",
            " add_3 (Add)                    (None, None, None,   0           ['input_1[0][0]',                \n",
            "                                3)                                'model_1[0][0]']                \n",
            "                                                                                                  \n",
            " conv2d_33 (Conv2D)             (None, None, None,   84          ['add_3[0][0]']                  \n",
            "                                3)                                                                \n",
            "                                                                                                  \n",
            " model_2 (Functional)           (None, None, None,   3600        ['conv2d_33[0][0]']              \n",
            "                                3)                                                                \n",
            "                                                                                                  \n",
            " add_5 (Add)                    (None, None, None,   0           ['input_1[0][0]',                \n",
            "                                3)                                'model_2[0][0]']                \n",
            "                                                                                                  \n",
            " conv2d_49 (Conv2D)             (None, None, None,   84          ['add_5[0][0]']                  \n",
            "                                3)                                                                \n",
            "                                                                                                  \n",
            " model_3 (Functional)           (None, None, None,   3600        ['conv2d_49[0][0]']              \n",
            "                                3)                                                                \n",
            "                                                                                                  \n",
            " add_7 (Add)                    (None, None, None,   0           ['input_1[0][0]',                \n",
            "                                3)                                'model_3[0][0]']                \n",
            "                                                                                                  \n",
            " conv2d_65 (Conv2D)             (None, None, None,   84          ['add_7[0][0]']                  \n",
            "                                3)                                                                \n",
            "                                                                                                  \n",
            " model_4 (Functional)           (None, None, None,   3600        ['conv2d_65[0][0]']              \n",
            "                                3)                                                                \n",
            "                                                                                                  \n",
            " add_9 (Add)                    (None, None, None,   0           ['input_1[0][0]',                \n",
            "                                3)                                'model_4[0][0]']                \n",
            "                                                                                                  \n",
            " conv2d_81 (Conv2D)             (None, None, None,   84          ['add_9[0][0]']                  \n",
            "                                3)                                                                \n",
            "                                                                                                  \n",
            " conv2d_transpose (Conv2DTransp  (None, None, None,   732        ['conv2d_81[0][0]']              \n",
            " ose)                           3)                                                                \n",
            "                                                                                                  \n",
            " tf.clip_by_value (TFOpLambda)  (None, None, None,   0           ['conv2d_transpose[0][0]']       \n",
            "                                3)                                                                \n",
            "                                                                                                  \n",
            "==================================================================================================\n",
            "Total params: 19,320\n",
            "Trainable params: 19,320\n",
            "Non-trainable params: 0\n",
            "__________________________________________________________________________________________________\n",
            "11.889241981506348\n"
          ]
        }
      ]
    }
  ]
}