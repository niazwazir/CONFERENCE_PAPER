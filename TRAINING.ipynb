{
  "nbformat": 4,
  "nbformat_minor": 0,
  "metadata": {
    "colab": {
      "name": "TRAINING.ipynb",
      "provenance": []
    },
    "kernelspec": {
      "name": "python3",
      "display_name": "Python 3"
    },
    "language_info": {
      "name": "python"
    },
    "accelerator": "GPU"
  },
  "cells": [
    {
      "cell_type": "code",
      "source": [
        "!git clone https://github.com/niazwazir/CONFERENCE_PAPER"
      ],
      "metadata": {
        "colab": {
          "base_uri": "https://localhost:8080/"
        },
        "id": "RzWbwCgPQC6a",
        "outputId": "357824bf-2dd1-4747-9594-7b4bf959f2c2"
      },
      "execution_count": 1,
      "outputs": [
        {
          "output_type": "stream",
          "name": "stdout",
          "text": [
            "Cloning into 'CONFERENCE_PAPER'...\n",
            "remote: Enumerating objects: 3, done.\u001b[K\n",
            "remote: Counting objects: 100% (3/3), done.\u001b[K\n",
            "remote: Compressing objects: 100% (2/2), done.\u001b[K\n",
            "remote: Total 3 (delta 0), reused 0 (delta 0), pack-reused 0\u001b[K\n",
            "Unpacking objects: 100% (3/3), done.\n"
          ]
        }
      ]
    },
    {
      "cell_type": "code",
      "source": [
        "!ls"
      ],
      "metadata": {
        "colab": {
          "base_uri": "https://localhost:8080/"
        },
        "id": "WBBQrM4EQIts",
        "outputId": "2d637e42-18c5-4033-a012-d4ef74f6708d"
      },
      "execution_count": 2,
      "outputs": [
        {
          "output_type": "stream",
          "name": "stdout",
          "text": [
            "CONFERENCE_PAPER  sample_data\n"
          ]
        }
      ]
    },
    {
      "cell_type": "code",
      "source": [
        "cd CONFERENCE_PAPER/"
      ],
      "metadata": {
        "colab": {
          "base_uri": "https://localhost:8080/"
        },
        "id": "W7IUmNohQIxS",
        "outputId": "e827cf40-7c6b-4a2f-8414-b82055c94281"
      },
      "execution_count": 3,
      "outputs": [
        {
          "output_type": "stream",
          "name": "stdout",
          "text": [
            "/content/CONFERENCE_PAPER\n"
          ]
        }
      ]
    },
    {
      "cell_type": "code",
      "source": [
        "!ls"
      ],
      "metadata": {
        "colab": {
          "base_uri": "https://localhost:8080/"
        },
        "id": "v83hSzXKQI0g",
        "outputId": "5417f38f-b9a3-43a8-8d82-b8544861b2df"
      },
      "execution_count": 4,
      "outputs": [
        {
          "output_type": "stream",
          "name": "stdout",
          "text": [
            "MCSNet_X8.zip\n"
          ]
        }
      ]
    },
    {
      "cell_type": "code",
      "source": [
        "!unzip MCSNet_X8.zip"
      ],
      "metadata": {
        "colab": {
          "base_uri": "https://localhost:8080/"
        },
        "id": "7hijv1chl2gq",
        "outputId": "3af57317-ae34-40d6-be0e-bed7c09698cd"
      },
      "execution_count": 5,
      "outputs": [
        {
          "output_type": "stream",
          "name": "stdout",
          "text": [
            "Archive:  MCSNet_X8.zip\n",
            "   creating: MCSNet_X8/__pycache__/\n",
            "  inflating: MCSNet_X8/__pycache__/model.cpython-39.pyc  \n",
            "  inflating: MCSNet_X8/__pycache__/neuralnet.cpython-39.pyc  \n",
            "  inflating: MCSNet_X8/average_psnr_x8.py  \n",
            "  inflating: MCSNet_X8/Bneuralnet.py  \n",
            "   creating: MCSNet_X8/checkpoint/\n",
            "   creating: MCSNet_X8/dataset/\n",
            "   creating: MCSNet_X8/dataset/test/\n",
            "  inflating: MCSNet_X8/dataset/test/baby.png  \n",
            "  inflating: MCSNet_X8/dataset/test/bird.png  \n",
            "  inflating: MCSNet_X8/dataset/test/butterfly.png  \n",
            "  inflating: MCSNet_X8/dataset/test/head.png  \n",
            "  inflating: MCSNet_X8/dataset/test/woman.png  \n",
            "   creating: MCSNet_X8/dataset/train/\n",
            "  inflating: MCSNet_X8/dataset/train/t1.bmp  \n",
            "  inflating: MCSNet_X8/dataset/train/t10.bmp  \n",
            "  inflating: MCSNet_X8/dataset/train/t11.bmp  \n",
            "  inflating: MCSNet_X8/dataset/train/t12.bmp  \n",
            "  inflating: MCSNet_X8/dataset/train/t13.bmp  \n",
            "  inflating: MCSNet_X8/dataset/train/t14.bmp  \n",
            "  inflating: MCSNet_X8/dataset/train/t15.bmp  \n",
            "  inflating: MCSNet_X8/dataset/train/t16.bmp  \n",
            "  inflating: MCSNet_X8/dataset/train/t17.bmp  \n",
            "  inflating: MCSNet_X8/dataset/train/t18.bmp  \n",
            "  inflating: MCSNet_X8/dataset/train/t19.bmp  \n",
            "  inflating: MCSNet_X8/dataset/train/t2.bmp  \n",
            "  inflating: MCSNet_X8/dataset/train/t20.bmp  \n",
            "  inflating: MCSNet_X8/dataset/train/t21.bmp  \n",
            "  inflating: MCSNet_X8/dataset/train/t22.bmp  \n",
            "  inflating: MCSNet_X8/dataset/train/t23.bmp  \n",
            "  inflating: MCSNet_X8/dataset/train/t24.bmp  \n",
            "  inflating: MCSNet_X8/dataset/train/t25.bmp  \n",
            "  inflating: MCSNet_X8/dataset/train/t26.bmp  \n",
            "  inflating: MCSNet_X8/dataset/train/t27.bmp  \n",
            "  inflating: MCSNet_X8/dataset/train/t28.bmp  \n",
            "  inflating: MCSNet_X8/dataset/train/t29.bmp  \n",
            "  inflating: MCSNet_X8/dataset/train/t3.bmp  \n",
            "  inflating: MCSNet_X8/dataset/train/t30.bmp  \n",
            "  inflating: MCSNet_X8/dataset/train/t31.bmp  \n",
            "  inflating: MCSNet_X8/dataset/train/t32.bmp  \n",
            "  inflating: MCSNet_X8/dataset/train/t33.bmp  \n",
            "  inflating: MCSNet_X8/dataset/train/t34.bmp  \n",
            "  inflating: MCSNet_X8/dataset/train/t35.bmp  \n",
            "  inflating: MCSNet_X8/dataset/train/t36.bmp  \n",
            "  inflating: MCSNet_X8/dataset/train/t37.bmp  \n",
            "  inflating: MCSNet_X8/dataset/train/t38.bmp  \n",
            "  inflating: MCSNet_X8/dataset/train/t39.bmp  \n",
            "  inflating: MCSNet_X8/dataset/train/t4.bmp  \n",
            "  inflating: MCSNet_X8/dataset/train/t40.bmp  \n",
            "  inflating: MCSNet_X8/dataset/train/t42.bmp  \n",
            "  inflating: MCSNet_X8/dataset/train/t43.bmp  \n",
            "  inflating: MCSNet_X8/dataset/train/t44.bmp  \n",
            "  inflating: MCSNet_X8/dataset/train/t45.bmp  \n",
            "  inflating: MCSNet_X8/dataset/train/t46.bmp  \n",
            "  inflating: MCSNet_X8/dataset/train/t47.bmp  \n",
            "  inflating: MCSNet_X8/dataset/train/t48.bmp  \n",
            "  inflating: MCSNet_X8/dataset/train/t49.bmp  \n",
            "  inflating: MCSNet_X8/dataset/train/t5.bmp  \n",
            "  inflating: MCSNet_X8/dataset/train/t50.bmp  \n",
            "  inflating: MCSNet_X8/dataset/train/t51.bmp  \n",
            "  inflating: MCSNet_X8/dataset/train/t52.bmp  \n",
            "  inflating: MCSNet_X8/dataset/train/t53.bmp  \n",
            "  inflating: MCSNet_X8/dataset/train/t54.bmp  \n",
            "  inflating: MCSNet_X8/dataset/train/t55.bmp  \n",
            "  inflating: MCSNet_X8/dataset/train/t56.bmp  \n",
            "  inflating: MCSNet_X8/dataset/train/t57.bmp  \n",
            "  inflating: MCSNet_X8/dataset/train/t58.bmp  \n",
            "  inflating: MCSNet_X8/dataset/train/t59.bmp  \n",
            "  inflating: MCSNet_X8/dataset/train/t6.bmp  \n",
            "  inflating: MCSNet_X8/dataset/train/t60.bmp  \n",
            "  inflating: MCSNet_X8/dataset/train/t61.bmp  \n",
            "  inflating: MCSNet_X8/dataset/train/t62.bmp  \n",
            "  inflating: MCSNet_X8/dataset/train/t63.bmp  \n",
            "  inflating: MCSNet_X8/dataset/train/t64.bmp  \n",
            "  inflating: MCSNet_X8/dataset/train/t65.bmp  \n",
            "  inflating: MCSNet_X8/dataset/train/t66.bmp  \n",
            "  inflating: MCSNet_X8/dataset/train/t7.bmp  \n",
            "  inflating: MCSNet_X8/dataset/train/t8.bmp  \n",
            "  inflating: MCSNet_X8/dataset/train/t9.bmp  \n",
            "  inflating: MCSNet_X8/dataset/train/tt1.bmp  \n",
            "  inflating: MCSNet_X8/dataset/train/tt10.bmp  \n",
            "  inflating: MCSNet_X8/dataset/train/tt12.bmp  \n",
            "  inflating: MCSNet_X8/dataset/train/tt13.bmp  \n",
            "  inflating: MCSNet_X8/dataset/train/tt14.bmp  \n",
            "  inflating: MCSNet_X8/dataset/train/tt15.bmp  \n",
            "  inflating: MCSNet_X8/dataset/train/tt16.bmp  \n",
            "  inflating: MCSNet_X8/dataset/train/tt17.bmp  \n",
            "  inflating: MCSNet_X8/dataset/train/tt18.bmp  \n",
            "  inflating: MCSNet_X8/dataset/train/tt19.bmp  \n",
            "  inflating: MCSNet_X8/dataset/train/tt2.bmp  \n",
            "  inflating: MCSNet_X8/dataset/train/tt20.bmp  \n",
            "  inflating: MCSNet_X8/dataset/train/tt21.bmp  \n",
            "  inflating: MCSNet_X8/dataset/train/tt22.bmp  \n",
            "  inflating: MCSNet_X8/dataset/train/tt23.bmp  \n",
            "  inflating: MCSNet_X8/dataset/train/tt24.bmp  \n",
            "  inflating: MCSNet_X8/dataset/train/tt25.bmp  \n",
            "  inflating: MCSNet_X8/dataset/train/tt26.bmp  \n",
            "  inflating: MCSNet_X8/dataset/train/tt27.bmp  \n",
            "  inflating: MCSNet_X8/dataset/train/tt3.bmp  \n",
            "  inflating: MCSNet_X8/dataset/train/tt4.bmp  \n",
            "  inflating: MCSNet_X8/dataset/train/tt5.bmp  \n",
            "  inflating: MCSNet_X8/dataset/train/tt6.bmp  \n",
            "  inflating: MCSNet_X8/dataset/train/tt7.bmp  \n",
            "  inflating: MCSNet_X8/dataset/train/tt8.bmp  \n",
            "  inflating: MCSNet_X8/dataset/train/tt9.bmp  \n",
            "   creating: MCSNet_X8/dataset/validation/\n",
            "  inflating: MCSNet_X8/dataset/validation/baby.png  \n",
            "  inflating: MCSNet_X8/dataset/validation/bird.png  \n",
            "  inflating: MCSNet_X8/dataset/validation/butterfly.png  \n",
            "  inflating: MCSNet_X8/dataset/validation/head.png  \n",
            "  inflating: MCSNet_X8/dataset/validation/woman.png  \n",
            "  inflating: MCSNet_X8/demo.py       \n",
            "  inflating: MCSNet_X8/FSRCNN-TF.ipynb  \n",
            "  inflating: MCSNet_X8/LICENSE       \n",
            "  inflating: MCSNet_X8/model.py      \n",
            "  inflating: MCSNet_X8/neuralnet.py  \n",
            "  inflating: MCSNet_X8/PSNR.py       \n",
            "  inflating: MCSNet_X8/README.md     \n",
            "  inflating: MCSNet_X8/test.py       \n",
            "   creating: MCSNet_X8/test/\n",
            "   creating: MCSNet_X8/test/SET5/\n",
            "   creating: MCSNet_X8/test/SET5/X8/\n",
            "   creating: MCSNet_X8/test/SET5/X8/HR/\n",
            "  inflating: MCSNet_X8/test/SET5/X8/HR/baby_HR_x8.png  \n",
            "  inflating: MCSNet_X8/test/SET5/X8/HR/bird_HR_x8.png  \n",
            "  inflating: MCSNet_X8/test/SET5/X8/HR/butterfly_HR_x8.png  \n",
            "  inflating: MCSNet_X8/test/SET5/X8/HR/head_HR_x8.png  \n",
            "  inflating: MCSNet_X8/test/SET5/X8/HR/woman_HR_x8.png  \n",
            "   creating: MCSNet_X8/test/SET5/X8/LR/\n",
            " extracting: MCSNet_X8/test/SET5/X8/LR/baby_LRBI_x8.png  \n",
            " extracting: MCSNet_X8/test/SET5/X8/LR/bird_LRBI_x8.png  \n",
            " extracting: MCSNet_X8/test/SET5/X8/LR/butterfly_LRBI_x8.png  \n",
            " extracting: MCSNet_X8/test/SET5/X8/LR/head_LRBI_x8.png  \n",
            " extracting: MCSNet_X8/test/SET5/X8/LR/woman_LRBI_x8.png  \n",
            "  inflating: MCSNet_X8/train.py      \n",
            "  inflating: MCSNet_X8/TRAINING PROCEDURE.txt  \n",
            "   creating: MCSNet_X8/utils/\n",
            "   creating: MCSNet_X8/utils/__pycache__/\n",
            "  inflating: MCSNet_X8/utils/__pycache__/common.cpython-39.pyc  \n",
            "  inflating: MCSNet_X8/utils/__pycache__/dataset.cpython-39.pyc  \n",
            "  inflating: MCSNet_X8/utils/common.py  \n",
            "  inflating: MCSNet_X8/utils/dataset.py  \n"
          ]
        }
      ]
    },
    {
      "cell_type": "code",
      "source": [
        "!ls"
      ],
      "metadata": {
        "colab": {
          "base_uri": "https://localhost:8080/"
        },
        "id": "gVLeUipfl9Bp",
        "outputId": "2f70887c-7a1b-4412-e175-598eafa3f2b2"
      },
      "execution_count": 6,
      "outputs": [
        {
          "output_type": "stream",
          "name": "stdout",
          "text": [
            "MCSNet_X8  MCSNet_X8.zip\n"
          ]
        }
      ]
    },
    {
      "cell_type": "code",
      "source": [
        "cd MCSNet_X8/"
      ],
      "metadata": {
        "colab": {
          "base_uri": "https://localhost:8080/"
        },
        "id": "yzrDKKxnmAGY",
        "outputId": "0b8ad12c-d077-4f5b-85a0-1cbd1eaf3830"
      },
      "execution_count": 7,
      "outputs": [
        {
          "output_type": "stream",
          "name": "stdout",
          "text": [
            "/content/CONFERENCE_PAPER/MCSNet_X8\n"
          ]
        }
      ]
    },
    {
      "cell_type": "code",
      "source": [
        "!ls"
      ],
      "metadata": {
        "colab": {
          "base_uri": "https://localhost:8080/"
        },
        "id": "h_lUzHjemDLo",
        "outputId": "15a6378e-fe01-4bb2-a914-cac37c02248b"
      },
      "execution_count": 8,
      "outputs": [
        {
          "output_type": "stream",
          "name": "stdout",
          "text": [
            " average_psnr_x8.py   FSRCNN-TF.ipynb   __pycache__\t\t  train.py\n",
            " Bneuralnet.py\t      LICENSE\t        README.md\t\t  utils\n",
            " checkpoint\t      model.py\t        test\n",
            " dataset\t      neuralnet.py      test.py\n",
            " demo.py\t      PSNR.py\t       'TRAINING PROCEDURE.txt'\n"
          ]
        }
      ]
    },
    {
      "cell_type": "code",
      "source": [
        "!python train.py --step=10000 --scale=8 --batch_size=128 --save-best-only=1 --save-every=100 --ckpt-dir=\"checkpoint/x8\""
      ],
      "metadata": {
        "colab": {
          "base_uri": "https://localhost:8080/"
        },
        "id": "zyGeytL_mDs4",
        "outputId": "19049c7b-b6fa-4963-9aab-c6dd56c37903"
      },
      "execution_count": 9,
      "outputs": [
        {
          "output_type": "stream",
          "name": "stdout",
          "text": [
            "2022-06-09 07:03:06.775204: W tensorflow/core/common_runtime/gpu/gpu_bfc_allocator.cc:39] Overriding allow_growth setting because the TF_FORCE_GPU_ALLOW_GROWTH environment variable is set. Original config value was 0.\n",
            "Model: \"model_5\"\n",
            "__________________________________________________________________________________________________\n",
            " Layer (type)                   Output Shape         Param #     Connected to                     \n",
            "==================================================================================================\n",
            " input_1 (InputLayer)           [(None, None, None,  0           []                               \n",
            "                                 3)]                                                              \n",
            "                                                                                                  \n",
            " conv2d (Conv2D)                (None, None, None,   84          ['input_1[0][0]']                \n",
            "                                3)                                                                \n",
            "                                                                                                  \n",
            " leaky_re_lu (LeakyReLU)        (None, None, None,   0           ['conv2d[0][0]']                 \n",
            "                                3)                                                                \n",
            "                                                                                                  \n",
            " conv2d_1 (Conv2D)              (None, None, None,   84          ['leaky_re_lu[0][0]']            \n",
            "                                3)                                                                \n",
            "                                                                                                  \n",
            " model (Functional)             (None, None, None,   3600        ['conv2d_1[0][0]']               \n",
            "                                3)                                                                \n",
            "                                                                                                  \n",
            " add_1 (Add)                    (None, None, None,   0           ['input_1[0][0]',                \n",
            "                                3)                                'model[0][0]']                  \n",
            "                                                                                                  \n",
            " conv2d_17 (Conv2D)             (None, None, None,   84          ['add_1[0][0]']                  \n",
            "                                3)                                                                \n",
            "                                                                                                  \n",
            " model_1 (Functional)           (None, None, None,   3600        ['conv2d_17[0][0]']              \n",
            "                                3)                                                                \n",
            "                                                                                                  \n",
            " add_3 (Add)                    (None, None, None,   0           ['input_1[0][0]',                \n",
            "                                3)                                'model_1[0][0]']                \n",
            "                                                                                                  \n",
            " conv2d_33 (Conv2D)             (None, None, None,   84          ['add_3[0][0]']                  \n",
            "                                3)                                                                \n",
            "                                                                                                  \n",
            " model_2 (Functional)           (None, None, None,   3600        ['conv2d_33[0][0]']              \n",
            "                                3)                                                                \n",
            "                                                                                                  \n",
            " add_5 (Add)                    (None, None, None,   0           ['input_1[0][0]',                \n",
            "                                3)                                'model_2[0][0]']                \n",
            "                                                                                                  \n",
            " conv2d_49 (Conv2D)             (None, None, None,   84          ['add_5[0][0]']                  \n",
            "                                3)                                                                \n",
            "                                                                                                  \n",
            " model_3 (Functional)           (None, None, None,   3600        ['conv2d_49[0][0]']              \n",
            "                                3)                                                                \n",
            "                                                                                                  \n",
            " add_7 (Add)                    (None, None, None,   0           ['input_1[0][0]',                \n",
            "                                3)                                'model_3[0][0]']                \n",
            "                                                                                                  \n",
            " conv2d_65 (Conv2D)             (None, None, None,   84          ['add_7[0][0]']                  \n",
            "                                3)                                                                \n",
            "                                                                                                  \n",
            " model_4 (Functional)           (None, None, None,   3600        ['conv2d_65[0][0]']              \n",
            "                                3)                                                                \n",
            "                                                                                                  \n",
            " add_9 (Add)                    (None, None, None,   0           ['input_1[0][0]',                \n",
            "                                3)                                'model_4[0][0]']                \n",
            "                                                                                                  \n",
            " conv2d_81 (Conv2D)             (None, None, None,   84          ['add_9[0][0]']                  \n",
            "                                3)                                                                \n",
            "                                                                                                  \n",
            " conv2d_transpose (Conv2DTransp  (None, None, None,   732        ['conv2d_81[0][0]']              \n",
            " ose)                           3)                                                                \n",
            "                                                                                                  \n",
            " tf.clip_by_value (TFOpLambda)  (None, None, None,   0           ['conv2d_transpose[0][0]']       \n",
            "                                3)                                                                \n",
            "                                                                                                  \n",
            "==================================================================================================\n",
            "Total params: 19,320\n",
            "Trainable params: 19,320\n",
            "Non-trainable params: 0\n",
            "__________________________________________________________________________________________________\n",
            "dataset/train/t1.bmp\n",
            "dataset/train/t10.bmp\n",
            "dataset/train/t11.bmp\n",
            "dataset/train/t12.bmp\n",
            "dataset/train/t13.bmp\n",
            "dataset/train/t14.bmp\n",
            "dataset/train/t15.bmp\n",
            "dataset/train/t16.bmp\n",
            "dataset/train/t17.bmp\n",
            "dataset/train/t18.bmp\n",
            "dataset/train/t19.bmp\n",
            "dataset/train/t2.bmp\n",
            "dataset/train/t20.bmp\n",
            "dataset/train/t21.bmp\n",
            "dataset/train/t22.bmp\n",
            "dataset/train/t23.bmp\n",
            "dataset/train/t24.bmp\n",
            "dataset/train/t25.bmp\n",
            "dataset/train/t26.bmp\n",
            "dataset/train/t27.bmp\n",
            "dataset/train/t28.bmp\n",
            "dataset/train/t29.bmp\n",
            "dataset/train/t3.bmp\n",
            "dataset/train/t30.bmp\n",
            "dataset/train/t31.bmp\n",
            "dataset/train/t32.bmp\n",
            "dataset/train/t33.bmp\n",
            "dataset/train/t34.bmp\n",
            "dataset/train/t35.bmp\n",
            "dataset/train/t36.bmp\n",
            "dataset/train/t37.bmp\n",
            "dataset/train/t38.bmp\n",
            "dataset/train/t39.bmp\n",
            "dataset/train/t4.bmp\n",
            "dataset/train/t40.bmp\n",
            "dataset/train/t42.bmp\n",
            "dataset/train/t43.bmp\n",
            "dataset/train/t44.bmp\n",
            "dataset/train/t45.bmp\n",
            "dataset/train/t46.bmp\n",
            "dataset/train/t47.bmp\n",
            "dataset/train/t48.bmp\n",
            "dataset/train/t49.bmp\n",
            "dataset/train/t5.bmp\n",
            "dataset/train/t50.bmp\n",
            "dataset/train/t51.bmp\n",
            "dataset/train/t52.bmp\n",
            "dataset/train/t53.bmp\n",
            "dataset/train/t54.bmp\n",
            "dataset/train/t55.bmp\n",
            "dataset/train/t56.bmp\n",
            "dataset/train/t57.bmp\n",
            "dataset/train/t58.bmp\n",
            "dataset/train/t59.bmp\n",
            "dataset/train/t6.bmp\n",
            "dataset/train/t60.bmp\n",
            "dataset/train/t61.bmp\n",
            "dataset/train/t62.bmp\n",
            "dataset/train/t63.bmp\n",
            "dataset/train/t64.bmp\n",
            "dataset/train/t65.bmp\n",
            "dataset/train/t66.bmp\n",
            "dataset/train/t7.bmp\n",
            "dataset/train/t8.bmp\n",
            "dataset/train/t9.bmp\n",
            "dataset/train/tt1.bmp\n",
            "dataset/train/tt10.bmp\n",
            "dataset/train/tt12.bmp\n",
            "dataset/train/tt13.bmp\n",
            "dataset/train/tt14.bmp\n",
            "dataset/train/tt15.bmp\n",
            "dataset/train/tt16.bmp\n",
            "dataset/train/tt17.bmp\n",
            "dataset/train/tt18.bmp\n",
            "dataset/train/tt19.bmp\n",
            "dataset/train/tt2.bmp\n",
            "dataset/train/tt20.bmp\n",
            "dataset/train/tt21.bmp\n",
            "dataset/train/tt22.bmp\n",
            "dataset/train/tt23.bmp\n",
            "dataset/train/tt24.bmp\n",
            "dataset/train/tt25.bmp\n",
            "dataset/train/tt26.bmp\n",
            "dataset/train/tt27.bmp\n",
            "dataset/train/tt3.bmp\n",
            "dataset/train/tt4.bmp\n",
            "dataset/train/tt5.bmp\n",
            "dataset/train/tt6.bmp\n",
            "dataset/train/tt7.bmp\n",
            "dataset/train/tt8.bmp\n",
            "dataset/train/tt9.bmp\n",
            "dataset/validation/baby.png\n",
            "dataset/validation/bird.png\n",
            "dataset/validation/butterfly.png\n",
            "dataset/validation/head.png\n",
            "dataset/validation/woman.png\n",
            "dataset/test/baby.png\n",
            "dataset/test/bird.png\n",
            "dataset/test/butterfly.png\n",
            "dataset/test/head.png\n",
            "dataset/test/woman.png\n",
            "Step 100/10000 - loss: 0.0404446 - PSNR: 14.995 - val_loss: 0.0225575 - val_PSNR: 16.467\n",
            "Save model to checkpoint/x8/MCSNet-x8.h5\n",
            "\n",
            "Step 200/10000 - loss: 0.0203015 - PSNR: 16.930 - val_loss: 0.0209373 - val_PSNR: 16.791\n",
            "Save model to checkpoint/x8/MCSNet-x8.h5\n",
            "\n",
            "Step 300/10000 - loss: 0.0194671 - PSNR: 17.111 - val_loss: 0.0193423 - val_PSNR: 17.135\n",
            "Save model to checkpoint/x8/MCSNet-x8.h5\n",
            "\n",
            "Step 400/10000 - loss: 0.0188111 - PSNR: 17.259 - val_loss: 0.0178670 - val_PSNR: 17.479\n",
            "Save model to checkpoint/x8/MCSNet-x8.h5\n",
            "\n",
            "Step 500/10000 - loss: 0.0179852 - PSNR: 17.454 - val_loss: 0.0160554 - val_PSNR: 17.944\n",
            "Save model to checkpoint/x8/MCSNet-x8.h5\n",
            "\n",
            "Step 600/10000 - loss: 0.0171790 - PSNR: 17.655 - val_loss: 0.0141646 - val_PSNR: 18.488\n",
            "Save model to checkpoint/x8/MCSNet-x8.h5\n",
            "\n",
            "Step 700/10000 - loss: 0.0162866 - PSNR: 17.886 - val_loss: 0.0125863 - val_PSNR: 19.001\n",
            "Save model to checkpoint/x8/MCSNet-x8.h5\n",
            "\n",
            "Step 800/10000 - loss: 0.0154216 - PSNR: 18.124 - val_loss: 0.0109778 - val_PSNR: 19.595\n",
            "Save model to checkpoint/x8/MCSNet-x8.h5\n",
            "\n",
            "Step 900/10000 - loss: 0.0145439 - PSNR: 18.379 - val_loss: 0.0098894 - val_PSNR: 20.048\n",
            "Save model to checkpoint/x8/MCSNet-x8.h5\n",
            "\n",
            "Step 1000/10000 - loss: 0.0140198 - PSNR: 18.539 - val_loss: 0.0088015 - val_PSNR: 20.554\n",
            "Save model to checkpoint/x8/MCSNet-x8.h5\n",
            "\n",
            "Step 1100/10000 - loss: 0.0133978 - PSNR: 18.736 - val_loss: 0.0079748 - val_PSNR: 20.983\n",
            "Save model to checkpoint/x8/MCSNet-x8.h5\n",
            "\n",
            "Step 1200/10000 - loss: 0.0130077 - PSNR: 18.864 - val_loss: 0.0075263 - val_PSNR: 21.234\n",
            "Save model to checkpoint/x8/MCSNet-x8.h5\n",
            "\n",
            "Step 1300/10000 - loss: 0.0127970 - PSNR: 18.934 - val_loss: 0.0071885 - val_PSNR: 21.434\n",
            "Save model to checkpoint/x8/MCSNet-x8.h5\n",
            "\n",
            "Step 1400/10000 - loss: 0.0124891 - PSNR: 19.041 - val_loss: 0.0070628 - val_PSNR: 21.510\n",
            "Save model to checkpoint/x8/MCSNet-x8.h5\n",
            "\n",
            "Step 1500/10000 - loss: 0.0123250 - PSNR: 19.097 - val_loss: 0.0071115 - val_PSNR: 21.480\n",
            "Step 1600/10000 - loss: 0.0121441 - PSNR: 19.164 - val_loss: 0.0070246 - val_PSNR: 21.534\n",
            "Save model to checkpoint/x8/MCSNet-x8.h5\n",
            "\n",
            "Step 1700/10000 - loss: 0.0119583 - PSNR: 19.230 - val_loss: 0.0068948 - val_PSNR: 21.615\n",
            "Save model to checkpoint/x8/MCSNet-x8.h5\n",
            "\n",
            "Step 1800/10000 - loss: 0.0120132 - PSNR: 19.209 - val_loss: 0.0069011 - val_PSNR: 21.611\n",
            "Step 1900/10000 - loss: 0.0118168 - PSNR: 19.282 - val_loss: 0.0069254 - val_PSNR: 21.596\n",
            "Step 2000/10000 - loss: 0.0117834 - PSNR: 19.293 - val_loss: 0.0069135 - val_PSNR: 21.603\n",
            "Step 2100/10000 - loss: 0.0117054 - PSNR: 19.322 - val_loss: 0.0069077 - val_PSNR: 21.607\n",
            "Step 2200/10000 - loss: 0.0116063 - PSNR: 19.359 - val_loss: 0.0070299 - val_PSNR: 21.530\n",
            "Step 2300/10000 - loss: 0.0116591 - PSNR: 19.340 - val_loss: 0.0069024 - val_PSNR: 21.610\n",
            "Step 2400/10000 - loss: 0.0116104 - PSNR: 19.357 - val_loss: 0.0068566 - val_PSNR: 21.639\n",
            "Save model to checkpoint/x8/MCSNet-x8.h5\n",
            "\n",
            "Step 2500/10000 - loss: 0.0115833 - PSNR: 19.366 - val_loss: 0.0069680 - val_PSNR: 21.569\n",
            "Step 2600/10000 - loss: 0.0115004 - PSNR: 19.400 - val_loss: 0.0068299 - val_PSNR: 21.656\n",
            "Save model to checkpoint/x8/MCSNet-x8.h5\n",
            "\n",
            "Step 2700/10000 - loss: 0.0114962 - PSNR: 19.400 - val_loss: 0.0067914 - val_PSNR: 21.680\n",
            "Save model to checkpoint/x8/MCSNet-x8.h5\n",
            "\n",
            "Step 2800/10000 - loss: 0.0114223 - PSNR: 19.427 - val_loss: 0.0067759 - val_PSNR: 21.690\n",
            "Save model to checkpoint/x8/MCSNet-x8.h5\n",
            "\n",
            "Step 2900/10000 - loss: 0.0114193 - PSNR: 19.431 - val_loss: 0.0067572 - val_PSNR: 21.702\n",
            "Save model to checkpoint/x8/MCSNet-x8.h5\n",
            "\n",
            "Step 3000/10000 - loss: 0.0113989 - PSNR: 19.439 - val_loss: 0.0067259 - val_PSNR: 21.723\n",
            "Save model to checkpoint/x8/MCSNet-x8.h5\n",
            "\n",
            "Step 3100/10000 - loss: 0.0113109 - PSNR: 19.471 - val_loss: 0.0067141 - val_PSNR: 21.730\n",
            "Save model to checkpoint/x8/MCSNet-x8.h5\n",
            "\n",
            "Step 3200/10000 - loss: 0.0113249 - PSNR: 19.465 - val_loss: 0.0067068 - val_PSNR: 21.735\n",
            "Save model to checkpoint/x8/MCSNet-x8.h5\n",
            "\n",
            "Step 3300/10000 - loss: 0.0112459 - PSNR: 19.495 - val_loss: 0.0065670 - val_PSNR: 21.826\n",
            "Save model to checkpoint/x8/MCSNet-x8.h5\n",
            "\n",
            "Step 3400/10000 - loss: 0.0112751 - PSNR: 19.485 - val_loss: 0.0066471 - val_PSNR: 21.774\n",
            "Step 3500/10000 - loss: 0.0111803 - PSNR: 19.521 - val_loss: 0.0065644 - val_PSNR: 21.828\n",
            "Save model to checkpoint/x8/MCSNet-x8.h5\n",
            "\n",
            "Step 3600/10000 - loss: 0.0111771 - PSNR: 19.523 - val_loss: 0.0065611 - val_PSNR: 21.830\n",
            "Save model to checkpoint/x8/MCSNet-x8.h5\n",
            "\n",
            "Step 3700/10000 - loss: 0.0111491 - PSNR: 19.533 - val_loss: 0.0065029 - val_PSNR: 21.869\n",
            "Save model to checkpoint/x8/MCSNet-x8.h5\n",
            "\n",
            "Step 3800/10000 - loss: 0.0111090 - PSNR: 19.549 - val_loss: 0.0066655 - val_PSNR: 21.762\n",
            "Step 3900/10000 - loss: 0.0110699 - PSNR: 19.565 - val_loss: 0.0065089 - val_PSNR: 21.865\n",
            "Step 4000/10000 - loss: 0.0110515 - PSNR: 19.571 - val_loss: 0.0064335 - val_PSNR: 21.915\n",
            "Save model to checkpoint/x8/MCSNet-x8.h5\n",
            "\n",
            "Step 4100/10000 - loss: 0.0110727 - PSNR: 19.563 - val_loss: 0.0064375 - val_PSNR: 21.913\n",
            "Step 4200/10000 - loss: 0.0109717 - PSNR: 19.603 - val_loss: 0.0065399 - val_PSNR: 21.844\n",
            "Step 4300/10000 - loss: 0.0109403 - PSNR: 19.616 - val_loss: 0.0064921 - val_PSNR: 21.876\n",
            "Step 4400/10000 - loss: 0.0113896 - PSNR: 19.487 - val_loss: 0.0064769 - val_PSNR: 21.886\n",
            "Step 4500/10000 - loss: 0.0081913 - PSNR: 20.879 - val_loss: 0.0054554 - val_PSNR: 22.632\n",
            "Save model to checkpoint/x8/MCSNet-x8.h5\n",
            "\n",
            "Step 4600/10000 - loss: 0.0074923 - PSNR: 21.260 - val_loss: 0.0052193 - val_PSNR: 22.824\n",
            "Save model to checkpoint/x8/MCSNet-x8.h5\n",
            "\n",
            "Step 4700/10000 - loss: 0.0072238 - PSNR: 21.418 - val_loss: 0.0050928 - val_PSNR: 22.930\n",
            "Save model to checkpoint/x8/MCSNet-x8.h5\n",
            "\n",
            "Step 4800/10000 - loss: 0.0070539 - PSNR: 21.521 - val_loss: 0.0050550 - val_PSNR: 22.963\n",
            "Save model to checkpoint/x8/MCSNet-x8.h5\n",
            "\n",
            "Step 4900/10000 - loss: 0.0069783 - PSNR: 21.569 - val_loss: 0.0049878 - val_PSNR: 23.021\n",
            "Save model to checkpoint/x8/MCSNet-x8.h5\n",
            "\n",
            "Step 5000/10000 - loss: 0.0068401 - PSNR: 21.655 - val_loss: 0.0048676 - val_PSNR: 23.127\n",
            "Save model to checkpoint/x8/MCSNet-x8.h5\n",
            "\n",
            "Step 5100/10000 - loss: 0.0067907 - PSNR: 21.688 - val_loss: 0.0048263 - val_PSNR: 23.164\n",
            "Save model to checkpoint/x8/MCSNet-x8.h5\n",
            "\n",
            "Step 5200/10000 - loss: 0.0067098 - PSNR: 21.739 - val_loss: 0.0047998 - val_PSNR: 23.188\n",
            "Save model to checkpoint/x8/MCSNet-x8.h5\n",
            "\n",
            "Step 5300/10000 - loss: 0.0066681 - PSNR: 21.765 - val_loss: 0.0047456 - val_PSNR: 23.237\n",
            "Save model to checkpoint/x8/MCSNet-x8.h5\n",
            "\n",
            "Step 5400/10000 - loss: 0.0066046 - PSNR: 21.808 - val_loss: 0.0046844 - val_PSNR: 23.294\n",
            "Save model to checkpoint/x8/MCSNet-x8.h5\n",
            "\n",
            "Step 5500/10000 - loss: 0.0065268 - PSNR: 21.858 - val_loss: 0.0047018 - val_PSNR: 23.277\n",
            "Step 5600/10000 - loss: 0.0065214 - PSNR: 21.861 - val_loss: 0.0047294 - val_PSNR: 23.252\n",
            "Step 5700/10000 - loss: 0.0064613 - PSNR: 21.903 - val_loss: 0.0045780 - val_PSNR: 23.393\n",
            "Save model to checkpoint/x8/MCSNet-x8.h5\n",
            "\n",
            "Step 5800/10000 - loss: 0.0064340 - PSNR: 21.922 - val_loss: 0.0046127 - val_PSNR: 23.360\n",
            "Step 5900/10000 - loss: 0.0064248 - PSNR: 21.927 - val_loss: 0.0045375 - val_PSNR: 23.432\n",
            "Save model to checkpoint/x8/MCSNet-x8.h5\n",
            "\n",
            "Step 6000/10000 - loss: 0.0063712 - PSNR: 21.965 - val_loss: 0.0045834 - val_PSNR: 23.388\n",
            "Step 6100/10000 - loss: 0.0063291 - PSNR: 21.993 - val_loss: 0.0045490 - val_PSNR: 23.421\n",
            "Step 6200/10000 - loss: 0.0063215 - PSNR: 21.996 - val_loss: 0.0045486 - val_PSNR: 23.421\n",
            "Step 6300/10000 - loss: 0.0062959 - PSNR: 22.014 - val_loss: 0.0044543 - val_PSNR: 23.512\n",
            "Save model to checkpoint/x8/MCSNet-x8.h5\n",
            "\n",
            "Step 6400/10000 - loss: 0.0062721 - PSNR: 22.032 - val_loss: 0.0044475 - val_PSNR: 23.519\n",
            "Save model to checkpoint/x8/MCSNet-x8.h5\n",
            "\n",
            "Step 6500/10000 - loss: 0.0062340 - PSNR: 22.058 - val_loss: 0.0044611 - val_PSNR: 23.506\n",
            "Step 6600/10000 - loss: 0.0062729 - PSNR: 22.031 - val_loss: 0.0044539 - val_PSNR: 23.513\n",
            "Step 6700/10000 - loss: 0.0061868 - PSNR: 22.091 - val_loss: 0.0043817 - val_PSNR: 23.584\n",
            "Save model to checkpoint/x8/MCSNet-x8.h5\n",
            "\n",
            "Step 6800/10000 - loss: 0.0061963 - PSNR: 22.085 - val_loss: 0.0044077 - val_PSNR: 23.558\n",
            "Step 6900/10000 - loss: 0.0062112 - PSNR: 22.074 - val_loss: 0.0044402 - val_PSNR: 23.526\n",
            "Step 7000/10000 - loss: 0.0061681 - PSNR: 22.104 - val_loss: 0.0043745 - val_PSNR: 23.591\n",
            "Save model to checkpoint/x8/MCSNet-x8.h5\n",
            "\n",
            "Step 7100/10000 - loss: 0.0061753 - PSNR: 22.098 - val_loss: 0.0044003 - val_PSNR: 23.565\n",
            "Step 7200/10000 - loss: 0.0061561 - PSNR: 22.111 - val_loss: 0.0043338 - val_PSNR: 23.631\n",
            "Save model to checkpoint/x8/MCSNet-x8.h5\n",
            "\n",
            "Step 7300/10000 - loss: 0.0061541 - PSNR: 22.114 - val_loss: 0.0043626 - val_PSNR: 23.603\n",
            "Step 7400/10000 - loss: 0.0061338 - PSNR: 22.130 - val_loss: 0.0043707 - val_PSNR: 23.595\n",
            "Step 7500/10000 - loss: 0.0060836 - PSNR: 22.165 - val_loss: 0.0043534 - val_PSNR: 23.612\n",
            "Step 7600/10000 - loss: 0.0060886 - PSNR: 22.161 - val_loss: 0.0044036 - val_PSNR: 23.562\n",
            "Step 7700/10000 - loss: 0.0061006 - PSNR: 22.153 - val_loss: 0.0044113 - val_PSNR: 23.554\n",
            "Step 7800/10000 - loss: 0.0061107 - PSNR: 22.145 - val_loss: 0.0043495 - val_PSNR: 23.616\n",
            "Step 7900/10000 - loss: 0.0060601 - PSNR: 22.182 - val_loss: 0.0043274 - val_PSNR: 23.638\n",
            "Save model to checkpoint/x8/MCSNet-x8.h5\n",
            "\n",
            "Step 8000/10000 - loss: 0.0060823 - PSNR: 22.165 - val_loss: 0.0043280 - val_PSNR: 23.637\n",
            "Step 8100/10000 - loss: 0.0060852 - PSNR: 22.163 - val_loss: 0.0043215 - val_PSNR: 23.644\n",
            "Save model to checkpoint/x8/MCSNet-x8.h5\n",
            "\n",
            "Step 8200/10000 - loss: 0.0060624 - PSNR: 22.180 - val_loss: 0.0042675 - val_PSNR: 23.698\n",
            "Save model to checkpoint/x8/MCSNet-x8.h5\n",
            "\n",
            "Step 8300/10000 - loss: 0.0060400 - PSNR: 22.197 - val_loss: 0.0043148 - val_PSNR: 23.650\n",
            "Step 8400/10000 - loss: 0.0060290 - PSNR: 22.204 - val_loss: 0.0043076 - val_PSNR: 23.658\n",
            "Step 8500/10000 - loss: 0.0060199 - PSNR: 22.209 - val_loss: 0.0042576 - val_PSNR: 23.708\n",
            "Save model to checkpoint/x8/MCSNet-x8.h5\n",
            "\n",
            "Step 8600/10000 - loss: 0.0060057 - PSNR: 22.220 - val_loss: 0.0042492 - val_PSNR: 23.717\n",
            "Save model to checkpoint/x8/MCSNet-x8.h5\n",
            "\n",
            "Step 8700/10000 - loss: 0.0059946 - PSNR: 22.228 - val_loss: 0.0042907 - val_PSNR: 23.675\n",
            "Step 8800/10000 - loss: 0.0059961 - PSNR: 22.227 - val_loss: 0.0042418 - val_PSNR: 23.724\n",
            "Save model to checkpoint/x8/MCSNet-x8.h5\n",
            "\n",
            "Step 8900/10000 - loss: 0.0060249 - PSNR: 22.206 - val_loss: 0.0042955 - val_PSNR: 23.670\n",
            "Step 9000/10000 - loss: 0.0059928 - PSNR: 22.229 - val_loss: 0.0042297 - val_PSNR: 23.737\n",
            "Save model to checkpoint/x8/MCSNet-x8.h5\n",
            "\n",
            "Step 9100/10000 - loss: 0.0059827 - PSNR: 22.236 - val_loss: 0.0043607 - val_PSNR: 23.604\n",
            "Step 9200/10000 - loss: 0.0059939 - PSNR: 22.228 - val_loss: 0.0042420 - val_PSNR: 23.724\n",
            "Step 9300/10000 - loss: 0.0059853 - PSNR: 22.234 - val_loss: 0.0043210 - val_PSNR: 23.644\n",
            "Step 9400/10000 - loss: 0.0059671 - PSNR: 22.247 - val_loss: 0.0042167 - val_PSNR: 23.750\n",
            "Save model to checkpoint/x8/MCSNet-x8.h5\n",
            "\n",
            "Step 9500/10000 - loss: 0.0059660 - PSNR: 22.249 - val_loss: 0.0042516 - val_PSNR: 23.715\n",
            "Step 9600/10000 - loss: 0.0059609 - PSNR: 22.253 - val_loss: 0.0042511 - val_PSNR: 23.715\n",
            "Step 9700/10000 - loss: 0.0059248 - PSNR: 22.279 - val_loss: 0.0042755 - val_PSNR: 23.690\n",
            "Step 9800/10000 - loss: 0.0059072 - PSNR: 22.291 - val_loss: 0.0042715 - val_PSNR: 23.694\n",
            "Step 9900/10000 - loss: 0.0059127 - PSNR: 22.289 - val_loss: 0.0041802 - val_PSNR: 23.788\n",
            "Save model to checkpoint/x8/MCSNet-x8.h5\n",
            "\n",
            "Step 10000/10000 - loss: 0.0059251 - PSNR: 22.280 - val_loss: 0.0042095 - val_PSNR: 23.758\n",
            "loss: 0.004188059363514185 - psnr: 23.779870986938477\n"
          ]
        }
      ]
    },
    {
      "cell_type": "code",
      "source": [
        "!ls"
      ],
      "metadata": {
        "id": "zZrHzpcLmk6h",
        "colab": {
          "base_uri": "https://localhost:8080/"
        },
        "outputId": "df3fe7be-0326-4b7d-a575-f85f0912e6df"
      },
      "execution_count": 10,
      "outputs": [
        {
          "output_type": "stream",
          "name": "stdout",
          "text": [
            " average_psnr_x8.py   FSRCNN-TF.ipynb   __pycache__\t\t  train.py\n",
            " Bneuralnet.py\t      LICENSE\t        README.md\t\t  utils\n",
            " checkpoint\t      model.py\t        test\n",
            " dataset\t      neuralnet.py      test.py\n",
            " demo.py\t      PSNR.py\t       'TRAINING PROCEDURE.txt'\n"
          ]
        }
      ]
    },
    {
      "cell_type": "code",
      "source": [
        "!python average_psnr_x8.py"
      ],
      "metadata": {
        "id": "QjbpvhkG6swt",
        "colab": {
          "base_uri": "https://localhost:8080/"
        },
        "outputId": "da83d920-3936-4719-e29d-93939fda10b9"
      },
      "execution_count": 11,
      "outputs": [
        {
          "output_type": "stream",
          "name": "stdout",
          "text": [
            "2022-06-09 07:07:42.697755: W tensorflow/core/common_runtime/gpu/gpu_bfc_allocator.cc:39] Overriding allow_growth setting because the TF_FORCE_GPU_ALLOW_GROWTH environment variable is set. Original config value was 0.\n",
            "Model: \"model_5\"\n",
            "__________________________________________________________________________________________________\n",
            " Layer (type)                   Output Shape         Param #     Connected to                     \n",
            "==================================================================================================\n",
            " input_1 (InputLayer)           [(None, None, None,  0           []                               \n",
            "                                 3)]                                                              \n",
            "                                                                                                  \n",
            " conv2d (Conv2D)                (None, None, None,   84          ['input_1[0][0]']                \n",
            "                                3)                                                                \n",
            "                                                                                                  \n",
            " leaky_re_lu (LeakyReLU)        (None, None, None,   0           ['conv2d[0][0]']                 \n",
            "                                3)                                                                \n",
            "                                                                                                  \n",
            " conv2d_1 (Conv2D)              (None, None, None,   84          ['leaky_re_lu[0][0]']            \n",
            "                                3)                                                                \n",
            "                                                                                                  \n",
            " model (Functional)             (None, None, None,   3600        ['conv2d_1[0][0]']               \n",
            "                                3)                                                                \n",
            "                                                                                                  \n",
            " add_1 (Add)                    (None, None, None,   0           ['input_1[0][0]',                \n",
            "                                3)                                'model[0][0]']                  \n",
            "                                                                                                  \n",
            " conv2d_17 (Conv2D)             (None, None, None,   84          ['add_1[0][0]']                  \n",
            "                                3)                                                                \n",
            "                                                                                                  \n",
            " model_1 (Functional)           (None, None, None,   3600        ['conv2d_17[0][0]']              \n",
            "                                3)                                                                \n",
            "                                                                                                  \n",
            " add_3 (Add)                    (None, None, None,   0           ['input_1[0][0]',                \n",
            "                                3)                                'model_1[0][0]']                \n",
            "                                                                                                  \n",
            " conv2d_33 (Conv2D)             (None, None, None,   84          ['add_3[0][0]']                  \n",
            "                                3)                                                                \n",
            "                                                                                                  \n",
            " model_2 (Functional)           (None, None, None,   3600        ['conv2d_33[0][0]']              \n",
            "                                3)                                                                \n",
            "                                                                                                  \n",
            " add_5 (Add)                    (None, None, None,   0           ['input_1[0][0]',                \n",
            "                                3)                                'model_2[0][0]']                \n",
            "                                                                                                  \n",
            " conv2d_49 (Conv2D)             (None, None, None,   84          ['add_5[0][0]']                  \n",
            "                                3)                                                                \n",
            "                                                                                                  \n",
            " model_3 (Functional)           (None, None, None,   3600        ['conv2d_49[0][0]']              \n",
            "                                3)                                                                \n",
            "                                                                                                  \n",
            " add_7 (Add)                    (None, None, None,   0           ['input_1[0][0]',                \n",
            "                                3)                                'model_3[0][0]']                \n",
            "                                                                                                  \n",
            " conv2d_65 (Conv2D)             (None, None, None,   84          ['add_7[0][0]']                  \n",
            "                                3)                                                                \n",
            "                                                                                                  \n",
            " model_4 (Functional)           (None, None, None,   3600        ['conv2d_65[0][0]']              \n",
            "                                3)                                                                \n",
            "                                                                                                  \n",
            " add_9 (Add)                    (None, None, None,   0           ['input_1[0][0]',                \n",
            "                                3)                                'model_4[0][0]']                \n",
            "                                                                                                  \n",
            " conv2d_81 (Conv2D)             (None, None, None,   84          ['add_9[0][0]']                  \n",
            "                                3)                                                                \n",
            "                                                                                                  \n",
            " conv2d_transpose (Conv2DTransp  (None, None, None,   732        ['conv2d_81[0][0]']              \n",
            " ose)                           3)                                                                \n",
            "                                                                                                  \n",
            " tf.clip_by_value (TFOpLambda)  (None, None, None,   0           ['conv2d_transpose[0][0]']       \n",
            "                                3)                                                                \n",
            "                                                                                                  \n",
            "==================================================================================================\n",
            "Total params: 19,320\n",
            "Trainable params: 19,320\n",
            "Non-trainable params: 0\n",
            "__________________________________________________________________________________________________\n",
            "23.691913604736328\n"
          ]
        }
      ]
    },
    {
      "cell_type": "code",
      "source": [
        "!ls"
      ],
      "metadata": {
        "id": "jw-OtIdu60I8",
        "colab": {
          "base_uri": "https://localhost:8080/"
        },
        "outputId": "4c2a8dfb-4198-450a-c176-9c8a85e35ff7"
      },
      "execution_count": 12,
      "outputs": [
        {
          "output_type": "stream",
          "name": "stdout",
          "text": [
            " average_psnr_x8.py   FSRCNN-TF.ipynb   __pycache__\t\t  train.py\n",
            " Bneuralnet.py\t      LICENSE\t        README.md\t\t  utils\n",
            " checkpoint\t      model.py\t        test\n",
            " dataset\t      neuralnet.py      test.py\n",
            " demo.py\t      PSNR.py\t       'TRAINING PROCEDURE.txt'\n"
          ]
        }
      ]
    },
    {
      "cell_type": "code",
      "source": [
        "cd checkpoint/"
      ],
      "metadata": {
        "colab": {
          "base_uri": "https://localhost:8080/"
        },
        "id": "jU4brWV4KXPY",
        "outputId": "486e5fe9-b297-4d09-c280-53648fd88079"
      },
      "execution_count": 13,
      "outputs": [
        {
          "output_type": "stream",
          "name": "stdout",
          "text": [
            "/content/CONFERENCE_PAPER/MCSNet_X8/checkpoint\n"
          ]
        }
      ]
    },
    {
      "cell_type": "code",
      "source": [
        "!ls"
      ],
      "metadata": {
        "colab": {
          "base_uri": "https://localhost:8080/"
        },
        "id": "_Fk618w4KZ0j",
        "outputId": "3adab2b9-e872-4d54-81d4-23d3276d8c14"
      },
      "execution_count": 14,
      "outputs": [
        {
          "output_type": "stream",
          "name": "stdout",
          "text": [
            "x8\n"
          ]
        }
      ]
    },
    {
      "cell_type": "code",
      "source": [
        "!zip -r x8.zip x8/"
      ],
      "metadata": {
        "colab": {
          "base_uri": "https://localhost:8080/"
        },
        "id": "9gXjekA7Ka0z",
        "outputId": "4edd196f-be2b-462c-b0d1-1d008b655183"
      },
      "execution_count": 15,
      "outputs": [
        {
          "output_type": "stream",
          "name": "stdout",
          "text": [
            "  adding: x8/ (stored 0%)\n",
            "  adding: x8/checkpoint (deflated 40%)\n",
            "  adding: x8/MCSNet-x8.h5 (deflated 68%)\n",
            "  adding: x8/ckpt-0.data-00000-of-00001 (deflated 29%)\n",
            "  adding: x8/ckpt-0.index (deflated 84%)\n"
          ]
        }
      ]
    },
    {
      "cell_type": "code",
      "source": [
        "!ls"
      ],
      "metadata": {
        "colab": {
          "base_uri": "https://localhost:8080/"
        },
        "id": "qdmP28ktKrlI",
        "outputId": "c333b2bf-31a5-4003-eebf-5a35f1ba37f1"
      },
      "execution_count": 16,
      "outputs": [
        {
          "output_type": "stream",
          "name": "stdout",
          "text": [
            "x8  x8.zip\n"
          ]
        }
      ]
    },
    {
      "cell_type": "code",
      "source": [
        "from google.colab import files\n",
        "files.download('x8.zip')"
      ],
      "metadata": {
        "colab": {
          "base_uri": "https://localhost:8080/",
          "height": 17
        },
        "id": "rbxjWO4JKsI4",
        "outputId": "6e1fd87a-4f1c-46f5-c6e3-a3e91e3462d7"
      },
      "execution_count": 17,
      "outputs": [
        {
          "output_type": "display_data",
          "data": {
            "text/plain": [
              "<IPython.core.display.Javascript object>"
            ],
            "application/javascript": [
              "\n",
              "    async function download(id, filename, size) {\n",
              "      if (!google.colab.kernel.accessAllowed) {\n",
              "        return;\n",
              "      }\n",
              "      const div = document.createElement('div');\n",
              "      const label = document.createElement('label');\n",
              "      label.textContent = `Downloading \"${filename}\": `;\n",
              "      div.appendChild(label);\n",
              "      const progress = document.createElement('progress');\n",
              "      progress.max = size;\n",
              "      div.appendChild(progress);\n",
              "      document.body.appendChild(div);\n",
              "\n",
              "      const buffers = [];\n",
              "      let downloaded = 0;\n",
              "\n",
              "      const channel = await google.colab.kernel.comms.open(id);\n",
              "      // Send a message to notify the kernel that we're ready.\n",
              "      channel.send({})\n",
              "\n",
              "      for await (const message of channel.messages) {\n",
              "        // Send a message to notify the kernel that we're ready.\n",
              "        channel.send({})\n",
              "        if (message.buffers) {\n",
              "          for (const buffer of message.buffers) {\n",
              "            buffers.push(buffer);\n",
              "            downloaded += buffer.byteLength;\n",
              "            progress.value = downloaded;\n",
              "          }\n",
              "        }\n",
              "      }\n",
              "      const blob = new Blob(buffers, {type: 'application/binary'});\n",
              "      const a = document.createElement('a');\n",
              "      a.href = window.URL.createObjectURL(blob);\n",
              "      a.download = filename;\n",
              "      div.appendChild(a);\n",
              "      a.click();\n",
              "      div.remove();\n",
              "    }\n",
              "  "
            ]
          },
          "metadata": {}
        },
        {
          "output_type": "display_data",
          "data": {
            "text/plain": [
              "<IPython.core.display.Javascript object>"
            ],
            "application/javascript": [
              "download(\"download_b9e82a4e-30dc-4fe3-b1c3-9498d7b592fe\", \"x8.zip\", 315056)"
            ]
          },
          "metadata": {}
        }
      ]
    },
    {
      "cell_type": "code",
      "source": [
        ""
      ],
      "metadata": {
        "id": "Y9VqmtMMKwmo"
      },
      "execution_count": 17,
      "outputs": []
    }
  ]
}